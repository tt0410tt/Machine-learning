{
 "cells": [
  {
   "cell_type": "markdown",
   "metadata": {},
   "source": [
    "# 웃는 얼굴 검출"
   ]
  },
  {
   "cell_type": "markdown",
   "metadata": {},
   "source": [
    "## 검출 순서\n",
    "1. 얼굴을 먼저 검출\n",
    "2. 검출된 얼굴을 가지고 웃고 있는지 확인"
   ]
  },
  {
   "cell_type": "code",
   "execution_count": 11,
   "metadata": {},
   "outputs": [
    {
     "name": "stdout",
     "output_type": "stream",
     "text": [
      "[[284 141  79  79]\n",
      " [188  48  95  95]\n",
      " [303  38  74  74]\n",
      " [ 84  40  83  83]]\n",
      "()\n",
      "0\n",
      "웃는 얼굴이 아닙니다.\n",
      "()\n",
      "0\n",
      "웃는 얼굴이 아닙니다.\n",
      "()\n",
      "0\n",
      "웃는 얼굴이 아닙니다.\n",
      "()\n",
      "0\n",
      "웃는 얼굴이 아닙니다.\n"
     ]
    }
   ],
   "source": [
    "import cv2\n",
    "\n",
    "# 웃는 얼굴 검출을 위한 Haar Cascade 파일 로드\n",
    "# 사전적으로 학습된 파일\n",
    "# 'haarcascade_smile.xml'\n",
    "# 'haarcascade_frontalface_default.xml'\n",
    "smile_cascade = cv2.CascadeClassifier(cv2.data.haarcascades + 'haarcascade_smile.xml')\n",
    "face_cascade = cv2.CascadeClassifier(cv2.data.haarcascades + 'haarcascade_frontalface_default.xml')\n",
    "\n",
    "\n",
    "# 이미지 로드\n",
    "#image = cv2.imread('smile_face.png')\n",
    "#image = cv2.imread('face.jpg')\n",
    "image = cv2.imread('facebook_faces.png')\n",
    "# RGB -> 그레이스케일로 변환\n",
    "gray = cv2.cvtColor(image, cv2.COLOR_BGR2GRAY)\n",
    "\n",
    "# 얼굴 검출\n",
    "# faces = face_cascade.detectMultiScale(gray, 1.5, 5)\n",
    "# cv2.imshow('gray', gray)\n",
    "\n",
    "faces = face_cascade.detectMultiScale(gray, scaleFactor=1.1, minNeighbors=5, minSize=(30, 30))\n",
    "print(faces)\n",
    "# 1. 얼굴 검출이 안되는 것이다\n",
    "# -> 해결책) faces = face_cascade.detectMultiScale(gray, 1.3, 5)\n",
    "# 값을 바꿔야 하는 것이 아닌가?\n",
    "# detctMultiScale(gray, scale_factor, minNeighbors)\n",
    "# scale_factor : 이미지 크기를 피라미드 방식으로 축소하는 비율\n",
    "# minNeihbors : 검출 후보 사각형이 \n",
    "# 유지되기 위해 필요한 최소 이웃 사각형 수\n",
    "\n",
    "# => image를 표시 roi_image에 사각형그려서 안나옴\n",
    "for (x, y, w, h) in faces:\n",
    "    roi_gray = gray[y:y+h, x:x+w]\n",
    "    roi_color = image[y:y+h, x:x+w]\n",
    "    cv2.rectangle(image, (x, y), (x+w, y+h), (0, 255, 0), 2)\n",
    "    # 웃는 얼굴 검출\n",
    "    smiles = smile_cascade.detectMultiScale(roi_gray, 1.8, 20)\n",
    "    print(smiles)\n",
    "    print(len(smiles))\n",
    "    # smiles 값의 유무에 따라서 웃는 얼굴인지 여부가 결정\n",
    "    if len(smiles) == 0:\n",
    "        print(\"웃는 얼굴이 아닙니다.\")\n",
    "    else:\n",
    "        print(\"웃는 얼굴입니다.\")\n",
    "\n",
    "    for (sx, sy, sw, sh) in smiles:\n",
    "        cv2.rectangle(roi_color, (sx, sy), (sx+sw, sy+sh), (255, 0, 0), 2)\n",
    "\n",
    "# 결과 이미지 출력\n",
    "cv2.imshow('Smile Detection', image)\n",
    "cv2.waitKey(0)\n",
    "cv2.destroyAllWindows()\n"
   ]
  }
 ],
 "metadata": {
  "kernelspec": {
   "display_name": "Python 3",
   "language": "python",
   "name": "python3"
  },
  "language_info": {
   "codemirror_mode": {
    "name": "ipython",
    "version": 3
   },
   "file_extension": ".py",
   "mimetype": "text/x-python",
   "name": "python",
   "nbconvert_exporter": "python",
   "pygments_lexer": "ipython3",
   "version": "3.12.4"
  }
 },
 "nbformat": 4,
 "nbformat_minor": 2
}
