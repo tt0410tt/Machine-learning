{
 "cells": [
  {
   "cell_type": "code",
   "execution_count": 11,
   "metadata": {},
   "outputs": [
    {
     "name": "stdout",
     "output_type": "stream",
     "text": [
      "height 650 width 866\n"
     ]
    },
    {
     "data": {
      "text/plain": [
       "13"
      ]
     },
     "execution_count": 11,
     "metadata": {},
     "output_type": "execute_result"
    }
   ],
   "source": [
    "# 이미지 변환\n",
    "\n",
    "import cv2\n",
    "import numpy as np\n",
    "\n",
    "# 이미지를 컬러로 로드하여 넘파이 배열 형태로 img에 대입\n",
    "img = cv2.imread('image.jpg',cv2.IMREAD_COLOR)\n",
    "\n",
    "# 이미지가 저장된 넘파이 배열의 너비와 높이를 구한다.\n",
    "height, width = img.shape[:2]\n",
    "print(\"height\", height,\"width\", width)\n",
    "\n",
    "# 이동 변환 행렬을 생성, x방향 100픽셀, y방향으로 200픽셀\n",
    "M = np.array([[1,0,100],[0,1,200],[0,0,1]],dtype=float)\n",
    "\n",
    "# 결과 이미지를 저장할 넘파이 배열을 입력이미지와 같은 크기로 생성\n",
    "dst = np.zeros(img.shape, dtype = np.uint8)\n",
    "\n",
    "# 이미지 전체 픽셀을 스캔\n",
    "for y in range(height-1):\n",
    "    for x in range(width-1):\n",
    "        # 현재 픽셀 p의 좌표에 이동 변환 행렬 M을 곱하여 이동시킨 좌표\n",
    "        # p_를 구합니다.\n",
    "        p = np.array([x,y,1])\n",
    "        p_= np.dot(M,p)\n",
    "\n",
    "        # 이동한 위치인 p_에서 좌표 x_, y_를 정수형태로 가져옵니다.\n",
    "        x_, y_ = p_[:2]\n",
    "        x_ = int(x_)\n",
    "        y_ = int(y_)\n",
    "\n",
    "        # 입력 이미지 크기 내로 픽셀이 이동한 경우에만\n",
    "        # 결과 이미지를 저장할 넘파이 배열로 픽셀을 복사\n",
    "        if x_ > 0 and x_ < width and y_ > 0 and y_ < height:\n",
    "            dst[y_,x_] = img[y,x]\n",
    "\n",
    "# 입력 이미지와 결과 이미지를 수평으로 연결하여 하나의 이미지를 만든다\n",
    "result = cv2.hconcat([img,dst])\n",
    "\n",
    "# title 추가, 윈도우에 이미지를 result를 보여줌\n",
    "cv2.imshow(\"result\",result)\n",
    "cv2.waitKey(0)"
   ]
  },
  {
   "cell_type": "code",
   "execution_count": 12,
   "metadata": {},
   "outputs": [
    {
     "data": {
      "text/plain": [
       "13"
      ]
     },
     "execution_count": 12,
     "metadata": {},
     "output_type": "execute_result"
    }
   ],
   "source": [
    "import cv2\n",
    "import numpy as np\n",
    "\n",
    "\n",
    "img = cv2.imread('image.jpg', cv2.IMREAD_COLOR)\n",
    "height,width = img.shape[:2]\n",
    "\n",
    "# 45도를 라디안으로 변환하여 코싸인값과 싸인값을 구합니다.\n",
    "angle = 45\n",
    "radian = angle*np.pi/180\n",
    "c = np.cos(radian)\n",
    "s = np.sin(radian)\n",
    "\n",
    "# 이미지 중심 좌표를 구합니다. \n",
    "center_x = width/2\n",
    "center_y = height/2\n",
    "\n",
    "# 회전변환행렬을 구성합니다.\n",
    "rotation_matrix = np.array([[c, s, (1-c)*center_x-s*center_y], [-s, c, s*center_x+(1-c)*center_y], [0, 0, 1]])\n",
    "\n",
    "\n",
    "dst = np.zeros(img.shape, dtype=np.uint8)\n",
    "\n",
    "for y in range(height-1):\n",
    "\tfor x in range(width-1):\n",
    "\n",
    "\t\t# backward mapping\n",
    "\t\t# 결과 이미지의 픽셀 new_p로 이동하는 입력 이미지의 \n",
    "\t\t# 픽셀 old_p의 위치를 계산합니다.\n",
    "\t\tnew_p = np.array([x, y, 1])\n",
    "\t\tinv_rotation_matrix = np.linalg.inv(rotation_matrix)\n",
    "\t\told_p = np.dot(inv_rotation_matrix, new_p)\n",
    "\n",
    "\t\t# new_p 위치에 계산하여 얻은 old_p 픽셀의 값을 대입합니다.\n",
    "\t\tx_,y_ = old_p[:2]\n",
    "\t\tx_ = int(x_)\n",
    "\t\ty_ = int(y_)\n",
    "\n",
    "\t\tif x_ > 0 and x_ < width and y_ > 0 and y_ < height:\n",
    "\t\t\tdst[y, x] = img[y_, x_]\n",
    "\n",
    "\t\t\t\n",
    "result = cv2.hconcat([img, dst]) \n",
    "cv2.imshow(\"result\", result)\n",
    "cv2.waitKey(0)\n"
   ]
  },
  {
   "cell_type": "code",
   "execution_count": 13,
   "metadata": {},
   "outputs": [
    {
     "data": {
      "text/plain": [
       "27"
      ]
     },
     "execution_count": 13,
     "metadata": {},
     "output_type": "execute_result"
    }
   ],
   "source": [
    "import cv2\n",
    "import numpy as np\n",
    "\n",
    "\n",
    "img = cv2.imread('image.jpg', cv2.IMREAD_COLOR)\n",
    "height,width = img.shape[:2]\n",
    "\n",
    "# 45도를 라디안으로 변환하여 코싸인값과 싸인값을 구합니다.\n",
    "angle = 45\n",
    "radian = angle*np.pi/180\n",
    "c = np.cos(radian)\n",
    "s = np.sin(radian)\n",
    "\n",
    "# 이미지 중심 좌표를 구합니다. \n",
    "center_x = width/2\n",
    "center_y = height/2\n",
    "\n",
    "# 좌표 (center_x, center_y) 중심으로 angle 만큼 회전하는 회전 변환 행렬을\n",
    "# 생성합니다.\n",
    "rotation_matrix = cv2.getRotationMatrix2D((center_x,center_y),angle,1)\n",
    "\n",
    "# 이미지에 회전 변환 행렬을 적용\n",
    "dst = cv2.warpAffine(img,rotation_matrix,(width,height))\n",
    "\n",
    "result = cv2.hconcat([img,dst])\n",
    "cv2.imshow(\"result\",result)\n",
    "cv2.waitKey(0)"
   ]
  },
  {
   "cell_type": "code",
   "execution_count": 14,
   "metadata": {},
   "outputs": [
    {
     "data": {
      "text/plain": [
       "27"
      ]
     },
     "execution_count": 14,
     "metadata": {},
     "output_type": "execute_result"
    }
   ],
   "source": [
    "import cv2\n",
    "import numpy as np\n",
    "\n",
    "\n",
    "img = cv2.imread('image.jpg', cv2.IMREAD_COLOR)\n",
    "height,width = img.shape[:2]\n",
    "\n",
    "\n",
    "scale_factor = 0.5\n",
    "scaling_matrix = np.array([[scale_factor, 0, 0], [0, scale_factor, 0], [0, 0, 1]])\n",
    "translation_matrix = np.array([[1, 0, width/4], [0, 1, height/4], [0, 0, 1]])\n",
    "angle = 45\n",
    "radian = angle*np.pi/180\n",
    "c = np.cos(radian)\n",
    "s = np.sin(radian)\n",
    "center_x = width / 2\n",
    "center_y = height / 2\n",
    "rotation_matrix = np.array([[c, s, (1-c)*center_x-s*center_y], [-s, c, s*center_x+(1-c)*center_y], [0, 0, 1]])\n",
    "\n",
    "# 정해진 순서대로 변환 행렬을 곱하여 하나의 행렬을 생성합니다. \n",
    "T = np.eye(3)\n",
    "T = np.dot(scaling_matrix, T)\n",
    "T = np.dot(translation_matrix, T)\n",
    "T = np.dot(rotation_matrix, T)\n",
    "\n",
    "dst = np.zeros((height, width, img.shape[2]) , dtype=np.uint8)\n",
    "\n",
    "for y in range(height):\n",
    "\tfor x in range(width):\n",
    "\n",
    "             # 미리 구해놓은 변환행렬을 행렬곱 한번으로 적용합니다. \n",
    "             # 여기에서도 backward mapping을 사용합니다. \n",
    "\t\tnew_p = np.array([x, y, 1])\n",
    "\t\tinv_scaling_matrix = np.linalg.inv(T)\n",
    "\t\told_p = np.dot(inv_scaling_matrix, new_p)\n",
    "\n",
    "\t\tx_,y_ = old_p[:2]\n",
    "\t\tx_ = int(x_)\n",
    "\t\ty_ = int(y_)\n",
    "\n",
    "\t\tif x_ > 0 and x_ < width and y_ > 0 and y_ < height:\n",
    "\t\t\tdst.itemset((y, x, 0), img.item(y_, x_, 0))\n",
    "\t\t\tdst.itemset((y, x, 1), img.item(y_, x_, 1))\n",
    "\t\t\tdst.itemset((y, x, 2), img.item(y_, x_, 2))\n",
    "\t\t\t \n",
    "cv2.imshow(\"result\", dst)\n",
    "cv2.waitKey(0)\n"
   ]
  }
 ],
 "metadata": {
  "language_info": {
   "name": "python"
  }
 },
 "nbformat": 4,
 "nbformat_minor": 2
}
