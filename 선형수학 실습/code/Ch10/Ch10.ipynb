{
 "cells": [
  {
   "cell_type": "markdown",
   "metadata": {},
   "source": [
    "# 10-2 블러링\n",
    "\n",
    "보통 이미지에서 노이즈 제거하기위한 기법  \n",
    "노이즈는 사라지지만 이미지가 흐려짐 -> 커널 사이즈, 블러링 알고리즘 잘 선택해야함"
   ]
  },
  {
   "cell_type": "markdown",
   "metadata": {},
   "source": [
    "## 필터 사용하는법\n",
    "\n",
    "블러링 : 보통 이미지에서 노이즈 제거하기 위해 사용\n",
    "노이즈는 사라지지만 이미지가 흐려짐\n",
    "커널(블러링 하는 필터 사이즈)를 조절해서 사용해야함"
   ]
  },
  {
   "cell_type": "markdown",
   "metadata": {},
   "source": [
    "## 평균 블러링  \n",
    "\n",
    "커널의 사이즈 만큼 평균 내서 사용하는 블러링 (p 210)\\\n",
    "\\\n",
    "cv2.blur(img,(5,5))  \n",
    "img : 입력 이미지  \n",
    "(5,5)는 커널 사이즈 (5x5 사이즈 필터)  "
   ]
  },
  {
   "cell_type": "code",
   "execution_count": 13,
   "metadata": {},
   "outputs": [],
   "source": [
    "import numpy as np\n",
    "import cv2\n",
    "\n",
    "\n",
    "img = cv2.imread('./10.2/test.png')\n",
    "# 커널 설정 및 필터 설정해서 블러링, 컨볼루션 계산 결과\n",
    "# \n",
    "kernel = np.ones((5,5),np.float32)/25\n",
    "dst = cv2.filter2D(img, -1, kernel)\n",
    "\n",
    "\n",
    "cv2.imshow('Original', img)\n",
    "cv2.imshow('Result', dst)\n",
    "\n",
    "cv2.waitKey(0)\n",
    "cv2.destroyAllWindows()\n"
   ]
  },
  {
   "cell_type": "markdown",
   "metadata": {},
   "source": [
    "## 10.2.2 가우시안 블러링\n",
    "\n",
    "- 평균 블러링과 달리 중심에 있는 원소에 가장 높은 가중치를 주는 블러링  \n",
    "- 평균 블러링보다 좀더 자연스러운 블러링을 할수있음  \n",
    " \n",
    "- cv2.GaussianBlur(img,(5,5),sigmaX)\n",
    "    - img : 입력이미지\n",
    "    - (5,5)는 커널 사이즈\n",
    "    - 가우시안 커널의 표준 편차 sigmaX, 0이면 커널 크기에 따라서 자동으로 계산해줌, sigmaX가 크면 블러효과가 강해짐"
   ]
  },
  {
   "cell_type": "code",
   "execution_count": 25,
   "metadata": {},
   "outputs": [],
   "source": [
    "import cv2\n",
    "\n",
    "\n",
    "img = cv2.imread('./10.2/test.png')\n",
    "img_blur = cv2.GaussianBlur(img,(5,5),0)\n",
    "img_blur2 = cv2.blur(img,(5,5),0)\n",
    "\n",
    "cv2.imshow('Original', img)\n",
    "cv2.imshow('Result', img_blur)\n",
    "cv2.imshow('blur', img_blur2)\n",
    "\n",
    "cv2.waitKey(0)\n",
    "cv2.destroyAllWindows()"
   ]
  },
  {
   "cell_type": "markdown",
   "metadata": {},
   "source": [
    "## 중간값 블러링  \n",
    "  \n",
    "1. 관심 화소 주변으로 지정한 커널 크기내에 픽셀의 크기순 정렬 후 중간값을 뽑아서 결과 이미지를 픽셀값으로 사용\n",
    "2. 무작위 노이즈 제거에 효과적, 에지가 있는 이미지는 에지가 사라짐.\n",
    "- cv2.medianBlur(img,5)\n",
    "    - img : 입력 이미지\n",
    "    - 5는 커널크기"
   ]
  },
  {
   "cell_type": "code",
   "execution_count": 26,
   "metadata": {},
   "outputs": [],
   "source": [
    "import cv2\n",
    "\n",
    "\n",
    "img = cv2.imread('./10.2/median.png')\n",
    "median = cv2.medianBlur(img, 5)\n",
    "\n",
    "cv2.imshow('Original', img)\n",
    "cv2.imshow('Result', median)\n",
    "\n",
    "cv2.waitKey(0)\n",
    "cv2.destroyAllWindows()"
   ]
  },
  {
   "cell_type": "markdown",
   "metadata": {},
   "source": [
    "## 10.2.4 양방향 필터링  \n",
    "\n",
    "1. 에지를 보존하면서 노이즈를 감소 시킬 수 있는 방법\n",
    "- cv2.bilateralFilter(img,9,75,75)\n",
    "    - img : 입력이미지\n",
    "    - 9 : 필터링에 사용되는 이웃 픽셀 직경, 커널 크기\n",
    "    - 75 : 색공간에서의 시그마 값, 색상이 비슷한 사이에서만 블러링을 하고, 큰 색상차이를 가진 픽셀은 보존\n",
    "    - 75 : 좌표 공간에서의 시그마 값, 값에 따라서 가까이 있는 픽셀들만 블러링 허용, 먼 픽셀은 영향을 덜받음."
   ]
  },
  {
   "cell_type": "code",
   "execution_count": 27,
   "metadata": {},
   "outputs": [],
   "source": [
    "import cv2\n",
    "\n",
    "\n",
    "img = cv2.imread('./10.2/texture.png')\n",
    "blur = cv2.bilateralFilter(img,9,75,75)\n",
    "\n",
    "cv2.imshow('Original', img)\n",
    "cv2.imshow('Result', blur)\n",
    "\n",
    "cv2.waitKey(0)\n",
    "cv2.destroyAllWindows()"
   ]
  },
  {
   "cell_type": "code",
   "execution_count": null,
   "metadata": {},
   "outputs": [],
   "source": [
    "##"
   ]
  },
  {
   "cell_type": "code",
   "execution_count": 29,
   "metadata": {},
   "outputs": [],
   "source": [
    "import cv2\n",
    "\n",
    "\n",
    "img_color = cv2.imread('./10.3/box.png', cv2.IMREAD_COLOR)\n",
    "img_gray = cv2.cvtColor(img_color, cv2.COLOR_BGR2GRAY)\n",
    "\n",
    "img_sobel_x = cv2.Sobel(img_gray, cv2.CV_64F, 1, 0, ksize=3)\n",
    "img_sobel_x = cv2.convertScaleAbs(img_sobel_x)\n",
    "\n",
    "img_sobel_y = cv2.Sobel(img_gray, cv2.CV_64F, 0, 1, ksize=3)\n",
    "img_sobel_y = cv2.convertScaleAbs(img_sobel_y)\n",
    "\n",
    "\n",
    "img_sobel = cv2.addWeighted(img_sobel_x, 1, img_sobel_y, 1, 0)\n",
    "\n",
    "\n",
    "cv2.imshow(\"Sobel X\", img_sobel_x)\n",
    "cv2.imshow(\"Sobel Y\", img_sobel_y)\n",
    "cv2.imshow(\"Sobel\", img_sobel)\n",
    "\n",
    "cv2.waitKey(0)\n",
    "cv2.destroyAllWindows()"
   ]
  },
  {
   "cell_type": "markdown",
   "metadata": {},
   "source": [
    "## 10.3.2 캐니 에지 디텍터\n",
    "\n",
    "- 낮은 에러율, 정확한 에지 위치, 응답 최소화를 가지는 것을 목표로함  \n",
    "\n",
    "- edges = cv.Canny(image,threshold1,threshold2,edges,apetureSize, L2gradient)"
   ]
  },
  {
   "cell_type": "code",
   "execution_count": 1,
   "metadata": {},
   "outputs": [],
   "source": [
    "import cv2\n",
    "\n",
    "\n",
    "img_gray = cv2.imread('./10.3/house.png', cv2.IMREAD_GRAYSCALE)\n",
    "cv2.imshow(\"Original\", img_gray)\n",
    "\n",
    "img_gray = cv2.blur(img_gray,(3, 3));\n",
    "img_canny = cv2.Canny(img_gray, 50, 150)\n",
    "cv2.imshow(\"Canny Edge\", img_canny)\n",
    "\n",
    "cv2.waitKey(0)\n",
    "cv2.destroyAllWindows()"
   ]
  }
 ],
 "metadata": {
  "kernelspec": {
   "display_name": "Python 3",
   "language": "python",
   "name": "python3"
  },
  "language_info": {
   "codemirror_mode": {
    "name": "ipython",
    "version": 3
   },
   "file_extension": ".py",
   "mimetype": "text/x-python",
   "name": "python",
   "nbconvert_exporter": "python",
   "pygments_lexer": "ipython3",
   "version": "3.12.3"
  }
 },
 "nbformat": 4,
 "nbformat_minor": 2
}
