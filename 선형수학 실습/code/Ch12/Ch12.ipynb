{
 "cells": [
  {
   "cell_type": "markdown",
   "metadata": {},
   "source": [
    "# Ch12. 허프 변환\n"
   ]
  },
  {
   "cell_type": "markdown",
   "metadata": {},
   "source": [
    "## 허프라인 검출(직선)  \n",
    "- lines =cv.Houghlines(image, rho, theta, threshold)  \n",
    "\n",
    "  - image : 8 비트 바이너리 이미지  \n",
    "  - rho : r의 범위 0에서 1사이의 실수 입력  \n",
    "  - theta : 0에서 180 사이의 실수를 입력, 라디안 단위임  \n",
    "  - threshold : 극좌표계에서 곡선이 만나는 기준, 값이 클수록 정확도는 올라가지만 검출되는 직선의 개수가 줄어듦"
   ]
  },
  {
   "cell_type": "code",
   "execution_count": 1,
   "metadata": {},
   "outputs": [
    {
     "data": {
      "text/plain": [
       "-1"
      ]
     },
     "execution_count": 1,
     "metadata": {},
     "output_type": "execute_result"
    }
   ],
   "source": [
    "import math\n",
    "import cv2 as cv\n",
    "import numpy as np\n",
    "\n",
    "    \n",
    "\n",
    "img_src = cv.imread(\"./12.1/test.jpg\", cv.IMREAD_GRAYSCALE)\n",
    "# Canny 함수를 통해서 엣지를 검출\n",
    "img_edge = cv.Canny(img_src, 50, 150)\n",
    "# 검출한 edge를 Grayscale에서 BGR로 변환\n",
    "# 허프라인 검출하면, r, theta,\n",
    "img_result = cv.cvtColor(img_edge, cv.COLOR_GRAY2BGR)\n",
    "img_result_P = np.copy(img_result)\n",
    "# 허프라인은 캐니 엣지 검출한 결과를 입력으로 받는다(중요)\n",
    "lines = cv.HoughLines(img_edge, 1, np.pi / 180, 150)\n",
    "# 1: 거리 해상도의 역수, 이게 픽셀단위, 1은 거리측정시 1픽셀 단위로 측정함\n",
    "# 1은 거리측정 1픽셀 단위로 측정 하겠다.\n",
    "# np.py/180 : 각도해상도, 각도차원의 분해능,\n",
    "# np.pi/180 1도 간격\n",
    "# 150 : 임계값 : 직선으로 간주되기 위해 지지하는 투표의 최소갯수(임계값이 높을수록 좀더 분명한 직선 검출)\n",
    "\n",
    "# 검출된 직선을 표시해주는 부분\n",
    "if lines is not None:\n",
    "    for i in range(0, len(lines)):\n",
    "        rho = lines[i][0][0]\n",
    "        theta = lines[i][0][1]\n",
    "        a = math.cos(theta)\n",
    "        b = math.sin(theta)\n",
    "        x0 = a * rho\n",
    "        y0 = b * rho\n",
    "\n",
    "        pt1 = (int(x0 + 1000*(-b)), int(y0 + 1000*(a)))\n",
    "        pt2 = (int(x0 - 1000*(-b)), int(y0 - 1000*(a)))\n",
    "        \n",
    "        cv.line(img_result, pt1, pt2, (0,0,255), 3)\n",
    "\n",
    "\n",
    "cv.imshow(\"Source\", img_src)\n",
    "cv.imshow(\"Standard Hough Line Transform\", img_result)\n",
    "\n",
    "cv.waitKey()\n"
   ]
  },
  {
   "cell_type": "markdown",
   "metadata": {},
   "source": [
    "## 허프라인(HoubhLineP)  \n",
    "\n",
    "- 모든 점이 아니라 임의의 점을 사용하여 직선을 검출\n",
    "- lines = cv.HoughLinesP(image, rho, theta, threshold,lines, minLineLength, maxLineGap)\n",
    "  - image : 이미지  \n",
    "  - rho : 위 허프라인과 같음  \n",
    "  - theta : 위 허프라인과 같음  \n",
    "  - threshold : 극좌표계에서 곡선이 만나는 기준, 값이 클수록 정확도는 높지만 검출되는 갯수는 감소  \n",
    "  - minLineLength : 최소선의 길이, 이것 이상의 직선을 검출  \n",
    "  - MaxLineGap : 찾은 직선이 이값 이상 떨어져 있어야 별개의 선으로 간주함 "
   ]
  },
  {
   "cell_type": "code",
   "execution_count": 2,
   "metadata": {},
   "outputs": [
    {
     "data": {
      "text/plain": [
       "-1"
      ]
     },
     "execution_count": 2,
     "metadata": {},
     "output_type": "execute_result"
    }
   ],
   "source": [
    "import math\n",
    "import cv2 as cv\n",
    "import numpy as np\n",
    "\n",
    "    \n",
    "\n",
    "img_src = cv.imread(\"./12.1/test.jpg\", cv.IMREAD_GRAYSCALE)\n",
    "\n",
    "img_edge = cv.Canny(img_src, 50, 150)\n",
    "\n",
    "img_result = cv.cvtColor(img_edge, cv.COLOR_GRAY2BGR)\n",
    "\n",
    "\n",
    "\n",
    "linesP = cv.HoughLinesP(img_edge, 1, np.pi / 180, 50, None, 50, 5)\n",
    "\n",
    "if linesP is not None:\n",
    "    for i in range(0, len(linesP)):\n",
    "        # linesP가 출력인데, I행 0번째 열이 점의 좌표값\n",
    "        l = linesP[i][0]\n",
    "        # 끝점 1 l[0], l[1]\n",
    "        # 끝점 2 l[2], l[3] 총 2개의 점으로 직선을 그리는 부분\n",
    "        cv.line(img_result, (l[0], l[1]), (l[2], l[3]), (0,0,255), 3, cv.LINE_AA)\n",
    "\n",
    "cv.imshow(\"Source\", img_src)\n",
    "cv.imshow(\"Probabilistic Line Transform\", img_result)\n",
    "\n",
    "cv.waitKey()\n"
   ]
  },
  {
   "cell_type": "code",
   "execution_count": 3,
   "metadata": {},
   "outputs": [],
   "source": [
    "import numpy as np\n",
    "import cv2 as cv\n",
    "\n",
    "img_gray = cv.imread('./12.2/test.jpg', cv.IMREAD_GRAYSCALE)\n",
    "img_gray = cv.medianBlur(img_gray,5)\n",
    "img_color = cv.cvtColor(img_gray,cv.COLOR_GRAY2BGR)\n",
    "\n",
    "circles = cv.HoughCircles(img_gray,cv.HOUGH_GRADIENT,1,20,\n",
    "                            param1=50,param2=35,minRadius=0,maxRadius=0)\n",
    "circles = np.uint16(np.around(circles))\n",
    "\n",
    "for c in circles[0,:]:\n",
    "\n",
    "    center = (c[0],c[1])\n",
    "    radius = c[2]\n",
    "    \n",
    "    # 바깥원\n",
    "    cv.circle(img_color,center,radius,(0,255,0),2)\n",
    "    \n",
    "    # 중심원\n",
    "    cv.circle(img_color,center,2,(0,0,255),3)\n",
    "\n",
    "cv.imshow('detected circles',img_color)\n",
    "cv.waitKey(0)\n",
    "cv.destroyAllWindows()"
   ]
  }
 ],
 "metadata": {
  "kernelspec": {
   "display_name": "Python 3",
   "language": "python",
   "name": "python3"
  },
  "language_info": {
   "codemirror_mode": {
    "name": "ipython",
    "version": 3
   },
   "file_extension": ".py",
   "mimetype": "text/x-python",
   "name": "python",
   "nbconvert_exporter": "python",
   "pygments_lexer": "ipython3",
   "version": "3.12.3"
  }
 },
 "nbformat": 4,
 "nbformat_minor": 2
}
