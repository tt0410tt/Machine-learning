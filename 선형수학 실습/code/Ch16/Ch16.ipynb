{
 "cells": [
  {
   "cell_type": "markdown",
   "metadata": {},
   "source": [
    "# Ch16. 컨투어 \n",
    "\n",
    "- 특정 영역의 경계를 따라 같은 픽셀 값을 갖는 지점을 연결하는 선  \n",
    "\n",
    "- findCountours함수 중요한점은 영역에 대한 모양 분석이나 오브젝트 검출을 위한 전처리로 사용\n",
    "- countours, hierachy= cv.findcontours(image, mode, method)\n",
    "\n",
    "  - image : 바이너리 이미지여야함.(검은색, 흰색으로 구성되어야함)  \n",
    "  - findcountours함수 사용전에 이진화 또는 케니 에지디텍터 등을 입력이미지에 적용하여 바이너리 이미지로 바꾸어야함.\n",
    "  - contours : 컴출된 컨투어, 외각선을 구성하는 점들의 x, y좌표  \n",
    "  - hierarchy : 검출된 컨투어 정보를 구조적으로 저장하고있음  \n",
    "  - mode : 에지 정보를 계층 또는 리스트로 저장하는 방식 지정, RETR_LIST(전체 출력), RETR_EXTERNAL(외각 출력) 사용을 주로함.  \n",
    "  - method : 컨투어를 구성하는 포인트 검출방법을 지정\n",
    "    1. CHAIN_APPROX_NONE - 컨투어 구성하는 모든 점 좌표\n",
    "    2. CHAIN_APPROX_SIMPLE - 일부 구간이 직선인 경우 시작좌표와 끝 좌표만 저장"
   ]
  },
  {
   "cell_type": "markdown",
   "metadata": {},
   "source": [
    "## drawContours 함수  \n",
    "\n",
    "- image cv.drawContours(image, contours, contourIdx, color, image)  \n",
    "  - image: 컨투어를 그릴 대상 이미지 . 컬러 이미지를선택\n",
    "  - 만약에 grayscale로 변환한 이미지의 경우, 다시 컬러로 만들면 컬러로 복원이 안되니, 따로 grayscale을 하는 것이 좋다\n",
    "  - contours : 이미지 위에 그릴 컨투어가 저장된 리스트입니다.  \n",
    "  - contourIdx : 이미지에 그릴 특정 컨투어의 인덱스, 음수 지정하면 모든 컨투어를 그림\n",
    "  \n",
    "  - color : 컨투어 그릴 때 사용할 색상, BGR 순\n",
    "  - thickness : 선의 굵기, 음수이면 내부를 채움\n",
    "  "
   ]
  },
  {
   "cell_type": "markdown",
   "metadata": {},
   "source": [
    "##"
   ]
  },
  {
   "cell_type": "code",
   "execution_count": 1,
   "metadata": {},
   "outputs": [
    {
     "data": {
      "text/plain": [
       "-1"
      ]
     },
     "execution_count": 1,
     "metadata": {},
     "output_type": "execute_result"
    }
   ],
   "source": [
    "import cv2 as cv\n",
    "\n",
    "img_color = cv.imread('./16.1/test.jpg', cv.IMREAD_COLOR)\n",
    "\n",
    "img_gray = cv.cvtColor(img_color, cv.COLOR_BGR2GRAY)\n",
    "ret, img_binary = cv.threshold(img_gray, 150, 255, cv.THRESH_BINARY_INV)\n",
    "\n",
    "kernel = cv.getStructuringElement(cv.MORPH_ELLIPSE, (5, 5))\n",
    "img_binary = cv.morphologyEx(img_binary, cv.MORPH_CLOSE, kernel)\n",
    "\n",
    "contours, hierarchy = cv.findContours(img_binary, cv.RETR_LIST, \n",
    "                        cv.CHAIN_APPROX_SIMPLE)\n",
    "\n",
    "cv.drawContours(img_color, contours, 0, (0, 0, 255), 3)  \n",
    "cv.drawContours(img_color, contours, 1, (0, 255, 0), 3)  \n",
    "\n",
    "cv.imshow(\"result\", img_color)\n",
    "cv.waitKey(0)"
   ]
  },
  {
   "cell_type": "code",
   "execution_count": 4,
   "metadata": {},
   "outputs": [
    {
     "data": {
      "text/plain": [
       "-1"
      ]
     },
     "execution_count": 4,
     "metadata": {},
     "output_type": "execute_result"
    }
   ],
   "source": [
    "import cv2 as cv\n",
    "\n",
    "\n",
    "img_color = cv.imread('./16.2/square.png', cv.IMREAD_COLOR)\n",
    "\n",
    "\n",
    "img_gray = cv.cvtColor(img_color, cv.COLOR_BGR2GRAY)\n",
    "ret, img_binary = cv.threshold(img_gray, 150, 255, cv.THRESH_BINARY)\n",
    "\n",
    "\n",
    "kernel = cv.getStructuringElement(cv.MORPH_ELLIPSE, (5, 5))\n",
    "img_binary = cv.morphologyEx(img_binary, cv.MORPH_CLOSE, kernel)\n",
    "\n",
    "\n",
    "contours, hierarchy = cv.findContours(img_binary, cv.RETR_LIST, \n",
    "                        cv.CHAIN_APPROX_SIMPLE)\n",
    "\n",
    "\n",
    "cv.drawContours(img_color, contours, 0, (0, 0, 255), 3)  \n",
    "\n",
    "\n",
    "for contour in contours:\n",
    "\n",
    "    epsilon = 0.03 * cv.arcLength(contour, True)\n",
    "    approx = cv.approxPolyDP(contour, epsilon, True)\n",
    "\n",
    "    cv.drawContours(img_color, [approx], 0, (0, 255, 0), 3)\n",
    "\n",
    "\n",
    "cv.imshow(\"result\", img_color)\n",
    "cv.waitKey(0)"
   ]
  },
  {
   "cell_type": "markdown",
   "metadata": {},
   "source": [
    "## 16.2.5 Convex Hull(p341)  \n",
    "\n"
   ]
  }
 ],
 "metadata": {
  "kernelspec": {
   "display_name": "Python 3",
   "language": "python",
   "name": "python3"
  },
  "language_info": {
   "codemirror_mode": {
    "name": "ipython",
    "version": 3
   },
   "file_extension": ".py",
   "mimetype": "text/x-python",
   "name": "python",
   "nbconvert_exporter": "python",
   "pygments_lexer": "ipython3",
   "version": "3.12.3"
  }
 },
 "nbformat": 4,
 "nbformat_minor": 2
}
