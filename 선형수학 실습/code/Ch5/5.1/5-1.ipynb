{
 "cells": [
  {
   "cell_type": "markdown",
   "metadata": {},
   "source": [
    "5.1 전역 임계값 사용 (page 98)\n",
    "\n",
    "이진화 : 그레이 스케일 이미지를 바이너리 이미지로 변환.  \n",
    "임계값 (threshold)를 기준으로 흰색영역과 검은색 영역으로 분리\n",
    "\n",
    "예) 임계값 127이면, 이미지에서 픽셀값이 127이하이면 검은색(0)   127보다 크면 흰색(1)\n",
    "\n",
    "전역임계값 : 이미지에서 수치를 기준으로 임계값처리  \n",
    "->이미지 전체에 동일한 임계값을 적용"
   ]
  },
  {
   "cell_type": "code",
   "execution_count": 7,
   "metadata": {},
   "outputs": [
    {
     "data": {
      "text/plain": [
       "-1"
      ]
     },
     "execution_count": 7,
     "metadata": {},
     "output_type": "execute_result"
    }
   ],
   "source": [
    "import cv2 as cv\n",
    "import sys\n",
    "\n",
    "\n",
    "img_color = cv.imread(\"grayscale.png\", cv.IMREAD_COLOR)\n",
    "if img_color is None:\n",
    "\tprint(\"이미지 파일을 읽을 수 없습니다.\")\n",
    "\tsys.exit(1)\n",
    "\n",
    "\n",
    "img_gray = cv.cvtColor(img_color, cv.COLOR_BGR2GRAY)\n",
    "\n",
    "\n",
    "retval,img_binary = cv.threshold(img_gray, 127, 255, cv.THRESH_BINARY)\n",
    "\n",
    "\n",
    "cv.imshow('Grayscale', img_gray)\n",
    "cv.imshow('Binary', img_binary)\n",
    "cv.waitKey(0)\n"
   ]
  },
  {
   "cell_type": "code",
   "execution_count": 5,
   "metadata": {},
   "outputs": [
    {
     "data": {
      "text/plain": [
       "array([[  0,   0,   0, ..., 249, 249, 249],\n",
       "       [  0,   0,   0, ..., 249, 249, 249],\n",
       "       [  0,   0,   0, ..., 249, 249, 249],\n",
       "       ...,\n",
       "       [  0,   0,   0, ..., 249, 249, 249],\n",
       "       [  0,   0,   0, ..., 249, 249, 249],\n",
       "       [  0,   0,   0, ..., 249, 249, 249]], dtype=uint8)"
      ]
     },
     "execution_count": 5,
     "metadata": {},
     "output_type": "execute_result"
    }
   ],
   "source": [
    "img_gray"
   ]
  },
  {
   "cell_type": "code",
   "execution_count": 6,
   "metadata": {},
   "outputs": [
    {
     "data": {
      "text/plain": [
       "array([[  0,   0,   0, ..., 255, 255, 255],\n",
       "       [  0,   0,   0, ..., 255, 255, 255],\n",
       "       [  0,   0,   0, ..., 255, 255, 255],\n",
       "       ...,\n",
       "       [  0,   0,   0, ..., 255, 255, 255],\n",
       "       [  0,   0,   0, ..., 255, 255, 255],\n",
       "       [  0,   0,   0, ..., 255, 255, 255]], dtype=uint8)"
      ]
     },
     "execution_count": 6,
     "metadata": {},
     "output_type": "execute_result"
    }
   ],
   "source": [
    "img_binary"
   ]
  },
  {
   "cell_type": "markdown",
   "metadata": {},
   "source": [
    "예제) threshold를 127 -> 100 , 255대신에 230을 넣는다면?  \n",
    "결과 어떻게 되는지 확인"
   ]
  },
  {
   "cell_type": "code",
   "execution_count": 9,
   "metadata": {},
   "outputs": [
    {
     "data": {
      "text/plain": [
       "-1"
      ]
     },
     "execution_count": 9,
     "metadata": {},
     "output_type": "execute_result"
    }
   ],
   "source": [
    "import cv2 as cv\n",
    "import sys\n",
    "\n",
    "\n",
    "img_color = cv.imread(\"grayscale.png\", cv.IMREAD_COLOR)\n",
    "if img_color is None:\n",
    "\tprint(\"이미지 파일을 읽을 수 없습니다.\")\n",
    "\tsys.exit(1)\n",
    "\n",
    "\n",
    "img_gray = cv.cvtColor(img_color, cv.COLOR_BGR2GRAY)\n",
    "\n",
    "\n",
    "retval,img_binary = cv.threshold(img_gray, 100, 100, cv.THRESH_BINARY)\n",
    "\n",
    "\n",
    "cv.imshow('Grayscale', img_gray)\n",
    "cv.imshow('Binary', img_binary)\n",
    "cv.waitKey(0)\n"
   ]
  },
  {
   "cell_type": "markdown",
   "metadata": {},
   "source": [
    "보통 원본 컬러 이미지를 그레이 스케일로 변환한 후  \n",
    "임계값을 기준으로 배경과 물체를 분리"
   ]
  },
  {
   "cell_type": "code",
   "execution_count": 3,
   "metadata": {},
   "outputs": [],
   "source": [
    "import cv2 as cv\n",
    "import sys\n",
    "\n",
    "\n",
    "def on_trackbar(x):\n",
    "    pass\n",
    "\n",
    "\n",
    " \n",
    "img_color = cv.imread(\"red ball.png\", cv.IMREAD_COLOR)\n",
    "if img_color is None:\n",
    "    print(\"이미지 파일을 읽을 수 없습니다.\")\n",
    "    sys.exit(1)\n",
    "\n",
    " \n",
    "img_gray = cv.cvtColor(img_color, cv.COLOR_BGR2GRAY)\n",
    "cv.imshow('Grayscale', img_gray)\n",
    "\n",
    "\n",
    "cv.namedWindow(\"Binary\")\n",
    "cv.createTrackbar(\"threshold\", \"Binary\", 0, 255, on_trackbar)\n",
    "cv.setTrackbarPos(\"threshold\", \"Binary\", 127)\n",
    "\n",
    " \n",
    "while True:\n",
    " \n",
    "    thresh = cv.getTrackbarPos(\"threshold\", \"Binary\")\n",
    "\n",
    "    retval,img_binary = cv.threshold(img_gray, thresh, 255, cv.THRESH_BINARY_INV)\n",
    "\n",
    "\n",
    "    cv.imshow('Binary', img_binary)\n",
    "\n",
    "    if cv.waitKey(1) & 0xFF == 27:\n",
    "        break\n",
    "cv.destroyAllWindows()\n"
   ]
  },
  {
   "cell_type": "markdown",
   "metadata": {},
   "source": [
    "5-2 적응형 이진화(Adaptive thresholding)\n",
    "\n",
    "이미지를 작은 영역으로 나누어 각 영역별로 다른 다른 임계값을 사용하는 방법이다.(p109, 그림 5-8 밑의 부분)"
   ]
  },
  {
   "cell_type": "code",
   "execution_count": 21,
   "metadata": {},
   "outputs": [
    {
     "data": {
      "text/plain": [
       "-1"
      ]
     },
     "execution_count": 21,
     "metadata": {},
     "output_type": "execute_result"
    }
   ],
   "source": [
    "import cv2 as cv\n",
    "import sys\n",
    "\n",
    "\n",
    "img_color = cv.imread(\"QupKb.png\", cv.IMREAD_COLOR)\n",
    "if img_color is None:\n",
    "\tprint(\"이미지 파일을 읽을 수 없습니다.\")\n",
    "\tsys.exit(1)\n",
    "\n",
    "\n",
    "img_gray = cv.cvtColor(img_color, cv.COLOR_BGR2GRAY)\n",
    "\n",
    "\n",
    "img_binary = cv.adaptiveThreshold(img_gray, \n",
    "        255, cv.ADAPTIVE_THRESH_MEAN_C, cv.THRESH_BINARY, 105, 4);\n",
    "\n",
    "cv.imshow('Grayscale', img_gray)\n",
    "cv.imshow('Binary', img_binary)\n",
    "cv.waitKey(0)\n"
   ]
  },
  {
   "cell_type": "markdown",
   "metadata": {},
   "source": [
    "5장 2진화  \n",
    "-> 그레이스케일 이미지를 바이너리 이미지로 변환하는것\n",
    "\n",
    "- 이미지의 데이터 Grayscale 일 때 가능, cvtColor 통해서 Grayscale로 수정 필요함  \n",
    "1) 전역임계값 사용  \n",
    "이미지 전체에 하나의 임계값을 사용  \n",
    "cv2.threshold(src,thresh, maxval,type) -> retval, ret  \n",
    "https://opencv-python.readthedocs.io/en/latest/doc/09.imageThresholding/imageThresholding.html  \n",
    "\n",
    "2) 적응형 임계값 사용  \n",
    "이미지 일부에 각 영역별 임계값을 사용  \n",
    "cv2.adaptiveThreshold(src, maxValue, adaptiveMethod, thresholdType, blockSize, C)  \n"
   ]
  }
 ],
 "metadata": {
  "kernelspec": {
   "display_name": "Python 3",
   "language": "python",
   "name": "python3"
  },
  "language_info": {
   "codemirror_mode": {
    "name": "ipython",
    "version": 3
   },
   "file_extension": ".py",
   "mimetype": "text/x-python",
   "name": "python",
   "nbconvert_exporter": "python",
   "pygments_lexer": "ipython3",
   "version": "3.12.3"
  }
 },
 "nbformat": 4,
 "nbformat_minor": 2
}
