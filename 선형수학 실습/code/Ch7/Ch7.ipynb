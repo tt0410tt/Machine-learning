{
 "cells": [
  {
   "cell_type": "markdown",
   "metadata": {},
   "source": [
    "# Ch7 그리기 함수  \n",
    "- 7-1 OpenCV 좌표계(p134)  \n",
    "좌표 (100,300)에 원그리기  \n",
    "-> openCV 캠버스 좌표계처럼 (y,x)형태로 사용하는것도 있다  \n",
    "이미지의 왼쪽 위가 원점 (0,0)  \n",
    "오른쪽으로 갈수록 x 값 증가  \n",
    "아래로 갈수록 y 값 증가"
   ]
  },
  {
   "cell_type": "code",
   "execution_count": 4,
   "metadata": {},
   "outputs": [
    {
     "name": "stdout",
     "output_type": "stream",
     "text": [
      "[[[0 0 0]\n",
      "  [0 0 0]\n",
      "  [0 0 0]\n",
      "  ...\n",
      "  [0 0 0]\n",
      "  [0 0 0]\n",
      "  [0 0 0]]\n",
      "\n",
      " [[0 0 0]\n",
      "  [0 0 0]\n",
      "  [0 0 0]\n",
      "  ...\n",
      "  [0 0 0]\n",
      "  [0 0 0]\n",
      "  [0 0 0]]\n",
      "\n",
      " [[0 0 0]\n",
      "  [0 0 0]\n",
      "  [0 0 0]\n",
      "  ...\n",
      "  [0 0 0]\n",
      "  [0 0 0]\n",
      "  [0 0 0]]\n",
      "\n",
      " ...\n",
      "\n",
      " [[0 0 0]\n",
      "  [0 0 0]\n",
      "  [0 0 0]\n",
      "  ...\n",
      "  [0 0 0]\n",
      "  [0 0 0]\n",
      "  [0 0 0]]\n",
      "\n",
      " [[0 0 0]\n",
      "  [0 0 0]\n",
      "  [0 0 0]\n",
      "  ...\n",
      "  [0 0 0]\n",
      "  [0 0 0]\n",
      "  [0 0 0]]\n",
      "\n",
      " [[0 0 0]\n",
      "  [0 0 0]\n",
      "  [0 0 0]\n",
      "  ...\n",
      "  [0 0 0]\n",
      "  [0 0 0]\n",
      "  [0 0 0]]]\n",
      "480 640 3\n"
     ]
    },
    {
     "data": {
      "text/plain": [
       "-1"
      ]
     },
     "execution_count": 4,
     "metadata": {},
     "output_type": "execute_result"
    }
   ],
   "source": [
    "import numpy as np\n",
    "import cv2 as cv\n",
    "\n",
    "\n",
    "\n",
    "width = 640\n",
    "height = 480\n",
    "\n",
    "img = np.zeros((height, width, 3), np.uint8)\n",
    "\n",
    "print(img)\n",
    "img_h = img.shape[0]\n",
    "img_w = img.shape[1]\n",
    "img_bpp = img.shape[2]\n",
    "\n",
    "print(img_h, img_w, img_bpp)\n",
    "\n",
    "cv.circle(img, (100, 300), 10, (0, 255, 255), -1)\n",
    "\n",
    "cv.imshow(\"drawing\", img)\n",
    "\n",
    "cv.waitKey(0)\n"
   ]
  },
  {
   "cell_type": "markdown",
   "metadata": {},
   "source": [
    "- 7-3 사각형 그리기  \n",
    "1) 사각형 두좌표(왼쪽 위, 오른쪽 아래)  \n",
    "  img= cv.rectangle(img,pt1,pt2,color, thickenss)  \n",
    "  img : 사각형을 그릴 이미지  \n",
    "  pt1 : 사각형의 왼쪽 위 좌표  \n",
    "  pt2 : 사각형을 오른쪽 아래 좌표  \n",
    "  color : 사각형의 색 예) 빨간색(0,0,255)  \n",
    "  thickenss : 선의 굵기 (-1 일시 내부 채워짐)  \n",
    "\n",
    "  \n",
    "   "
   ]
  },
  {
   "cell_type": "code",
   "execution_count": 5,
   "metadata": {},
   "outputs": [],
   "source": [
    "import numpy as np\n",
    "import cv2 as cv\n",
    "\n",
    "\n",
    "width = 640\n",
    "height = 480\n",
    "bpp = 3\n",
    "\n",
    "img = np.zeros((height, width, bpp), np.uint8)\n",
    "\n",
    "# 왼족위,오른쪽 아래 좌표 이용\n",
    "cv.rectangle(img, (50, 50),  (450, 450), (0, 0, 255), 3)\n",
    "cv.rectangle(img, (150, 200), (250, 300), (0, 255, 0), -1)\n",
    "\n",
    "# 왼쪽위 좌표가 300,150이면서 너비 높이가 각각 50 100인 내부가 마잰타색으로 채워진 사각형을 그림\n",
    "cv.rectangle(img, (300, 150, 50, 100), (255, 0, 255), -1)\n",
    "\n",
    "\n",
    "cv.imshow(\"result\", img)\n",
    "cv.waitKey(0)"
   ]
  },
  {
   "cell_type": "markdown",
   "metadata": {},
   "source": [
    "2) 사각형의 왼쪽 위 좌표와 너비, 높이 사용  \n",
    "img = cv.reactangle(img,rec,color[],thickness,lineType,shift)  \n",
    "(이미지, (왼쪽위 x좌표,왼쪽위 y좌표, 너비, 높이), 색,선의 굵기, 라인타입, )\n",
    "\n"
   ]
  },
  {
   "cell_type": "markdown",
   "metadata": {},
   "source": [
    "- 7-4 원 그리기  \n",
    "img = cv.circle(img,center,radius, color, thickness)  \n",
    "img : 이미지  \n",
    "center : 중심점  \n",
    "radius : 반지름  \n",
    "color : 색  \n",
    "thickness : 선 굵기"
   ]
  },
  {
   "cell_type": "code",
   "execution_count": 7,
   "metadata": {},
   "outputs": [],
   "source": [
    "import numpy as np\n",
    "import cv2 as cv\n",
    "\n",
    "\n",
    "width = 640\n",
    "height = 480\n",
    "bpp = 3\n",
    "\n",
    "img = np.zeros((height, width, bpp), np.uint8)\n",
    "\n",
    "\n",
    "cv.circle(img, (320, 240), 10, (0, 255, 0), -1)\n",
    "  \n",
    "cv.circle(img, (320, 240), 100, (0, 0, 255), 1)\n",
    "\n",
    "\n",
    "cv.imshow(\"result\", img)\n",
    "cv.waitKey(0);"
   ]
  },
  {
   "cell_type": "markdown",
   "metadata": {},
   "source": [
    "- 7-5 선분그리기  \n",
    "img = cv.line(img, pt1, pt1, color, thickness)  \n",
    "img : 선분그릴 이미지  \n",
    "pt1 : 시작점  \n",
    "pt2 : 끝점  \n",
    "color : 선분 색  \n",
    "thickness : 선의 굵기"
   ]
  },
  {
   "cell_type": "code",
   "execution_count": 8,
   "metadata": {},
   "outputs": [],
   "source": [
    "import numpy as np\n",
    "import cv2 as cv\n",
    "\n",
    "\n",
    "width = 640\n",
    "height = 480\n",
    "bpp = 3\n",
    "\n",
    "img = np.zeros((height, width, bpp), np.uint8)\n",
    "\n",
    " \n",
    "cv.line(img, (width-1, 0), (0, height-1), (0, 255, 0), 3)\n",
    "cv.line(img, (0, 0), (width-1, height-1), (0, 0, 255), 3) \n",
    "\n",
    "\n",
    "cv.imshow(\"result\", img)\n",
    "cv.waitKey(0);"
   ]
  },
  {
   "cell_type": "markdown",
   "metadata": {},
   "source": [
    "연습문제)  \n",
    "\n",
    "1) 300*300 크기의 검정색  \n",
    "\n",
    "2) (50,50) -> (150,150) 두께는 1인 빨간색 직선 그리기\n",
    "\n",
    "3) 왼쪽위 모서리(100,100), 뚜께는 10인 오른쪽 아래 모서리가 (200,200)인 초록색 사각형 그리기\n",
    "\n",
    "4) 중심이 (150,150), 반지름 50, 색상은 파란색, 두께는 2인 원을 그리기"
   ]
  },
  {
   "cell_type": "code",
   "execution_count": 2,
   "metadata": {},
   "outputs": [
    {
     "data": {
      "text/plain": [
       "-1"
      ]
     },
     "execution_count": 2,
     "metadata": {},
     "output_type": "execute_result"
    }
   ],
   "source": [
    "import numpy as np\n",
    "import cv2 as cv\n",
    "\n",
    "width = 300\n",
    "height = 300\n",
    "\n",
    "# 1번 문항\n",
    "img = np.zeros((height, width, 3), np.uint8)\n",
    "\n",
    "img_h = img.shape[0]\n",
    "img_w = img.shape[1]\n",
    "img_bpp = img.shape[2]\n",
    "\n",
    "# 2번 문항\n",
    "cv.line(img, (50, 50), (150, 150), (255, 0, 0), 1)\n",
    "\n",
    "# 3번 문항\n",
    "cv.rectangle(img, (100, 100),  (200, 200), (0, 255, 0), 10)\n",
    "\n",
    "# 4번 문항\n",
    "cv.circle(img, (150, 150), 50, (0, 0, 255), 2)\n",
    "\n",
    "cv.imshow(\"drawing\", img)\n",
    "\n",
    "cv.waitKey(0)"
   ]
  },
  {
   "cell_type": "markdown",
   "metadata": {},
   "source": [
    "- 7-7 폴리곤 그리기(p.159)  \n",
    "1) 다각형 선 그리기  \n",
    "폴리곤(polygon)을 그리는 함수인 polylines. fillpoly 함수를 제공합니다.  \n",
    "cv.polylines(img, [pts], isClosed, color, thickness)  \n",
    "img : 이미지  \n",
    "[pts] : 다각형의 꼭지점 배열  \n",
    "isClosed : 도형의 닫힘 유무 (True, False) -> True면 도형이 닫힌형태, False 열린형태  \n",
    "color: 선의 색,  thickness : 선의 굵기  \n",
    "\n",
    "2) 색칠된 다각형 그리기  \n",
    "cv.fillpoly(img,[pts],color)  \n",
    "img : 이미지  \n",
    "[pts] : 다각형의 꼭지점 배열  \n",
    "color: 선의 색,  thickness : 선의 굵기  "
   ]
  },
  {
   "cell_type": "code",
   "execution_count": 7,
   "metadata": {},
   "outputs": [
    {
     "ename": "error",
     "evalue": "OpenCV(4.10.0) :-1: error: (-5:Bad argument) in function 'fillPoly'\n> Overload resolution failed:\n>  - Argument 'lineType' is required to be an integer\n>  - Argument 'lineType' is required to be an integer\n",
     "output_type": "error",
     "traceback": [
      "\u001b[1;31m---------------------------------------------------------------------------\u001b[0m",
      "\u001b[1;31merror\u001b[0m                                     Traceback (most recent call last)",
      "Cell \u001b[1;32mIn[7], line 37\u001b[0m\n\u001b[0;32m     34\u001b[0m pts \u001b[38;5;241m=\u001b[39m np\u001b[38;5;241m.\u001b[39marray([[\u001b[38;5;241m320\u001b[39m, \u001b[38;5;241m245\u001b[39m], [\u001b[38;5;241m410\u001b[39m, \u001b[38;5;241m315\u001b[39m], [\u001b[38;5;241m380\u001b[39m, \u001b[38;5;241m415\u001b[39m], \n\u001b[0;32m     35\u001b[0m     [\u001b[38;5;241m265\u001b[39m, \u001b[38;5;241m415\u001b[39m], [\u001b[38;5;241m240\u001b[39m, \u001b[38;5;241m315\u001b[39m]], np\u001b[38;5;241m.\u001b[39mint32)\n\u001b[0;32m     36\u001b[0m pts \u001b[38;5;241m=\u001b[39m pts\u001b[38;5;241m.\u001b[39mreshape((\u001b[38;5;241m-\u001b[39m\u001b[38;5;241m1\u001b[39m, \u001b[38;5;241m1\u001b[39m, \u001b[38;5;241m2\u001b[39m))\n\u001b[1;32m---> 37\u001b[0m \u001b[43mcv\u001b[49m\u001b[38;5;241;43m.\u001b[39;49m\u001b[43mfillPoly\u001b[49m\u001b[43m(\u001b[49m\u001b[43mimg\u001b[49m\u001b[43m,\u001b[49m\u001b[43m \u001b[49m\u001b[43m[\u001b[49m\u001b[43mpts\u001b[49m\u001b[43m]\u001b[49m\u001b[43m,\u001b[49m\u001b[43m \u001b[49m\u001b[38;5;28;43;01mTrue\u001b[39;49;00m\u001b[43m,\u001b[49m\u001b[43m \u001b[49m\u001b[43myellow\u001b[49m\u001b[43m,\u001b[49m\u001b[38;5;241;43m2\u001b[39;49m\u001b[43m)\u001b[49m  \n\u001b[0;32m     41\u001b[0m cv\u001b[38;5;241m.\u001b[39mimshow(\u001b[38;5;124m\"\u001b[39m\u001b[38;5;124mdrawing\u001b[39m\u001b[38;5;124m\"\u001b[39m, img)\n\u001b[0;32m     42\u001b[0m cv\u001b[38;5;241m.\u001b[39mwaitKey(\u001b[38;5;241m0\u001b[39m);\n",
      "\u001b[1;31merror\u001b[0m: OpenCV(4.10.0) :-1: error: (-5:Bad argument) in function 'fillPoly'\n> Overload resolution failed:\n>  - Argument 'lineType' is required to be an integer\n>  - Argument 'lineType' is required to be an integer\n"
     ]
    }
   ],
   "source": [
    "import numpy as np\n",
    "import cv2 as cv\n",
    "\n",
    "\n",
    "width = 640\n",
    "height = 640\n",
    "bpp = 3\n",
    "\n",
    "\n",
    "img = np.zeros((height, width, bpp), np.uint8)\n",
    "\n",
    "\n",
    "red = (0, 0, 255)\n",
    "green = (0, 255, 0)\n",
    "yellow = (0, 255, 255)\n",
    "\n",
    "\n",
    "thickness = 2 \n",
    "\n",
    "\n",
    "pts = np.array([[315, 50], [570, 240], [475, 550], \n",
    "    [150, 550], [50, 240]], np.int32)\n",
    "pts = pts.reshape((-1, 1, 2))\n",
    "cv.polylines(img, [pts], False, red, thickness)  \n",
    "\n",
    "\n",
    "\n",
    "pts = np.array([[315, 160], [150, 280], [210, 480], \n",
    "    [420, 480], [480, 280]], np.int32)\n",
    "pts = pts.reshape((-1, 1, 2))\n",
    "cv.polylines(img, [pts], True, green, thickness)  \n",
    "\n",
    " \n",
    "pts = np.array([[320, 245], [410, 315], [380, 415], \n",
    "    [265, 415], [240, 315]], np.int32)\n",
    "pts = pts.reshape((-1, 1, 2))\n",
    "cv.fillPoly(img, [pts], yellow)\n",
    "\n",
    "\n",
    "\n",
    "\n",
    "cv.imshow(\"drawing\", img)\n",
    "cv.waitKey(0)"
   ]
  },
  {
   "cell_type": "markdown",
   "metadata": {},
   "source": [
    "- 7-8 글자 출력  \n",
    "1) putText 함수를 제공  \n",
    "cv.putTeext(img, str, location, font, fontScale, color, thickness)  \n",
    "img : 글을 추가할 이미지  \n",
    "str : 텍스트 문자열 입력 부분 예) 'text'\n",
    "location : 표시할 좌표  \n",
    "font : 폰트  \n",
    "fontScale = 폰트 스케일  \n",
    "color = 색 , thickness = 선두께  "
   ]
  },
  {
   "cell_type": "code",
   "execution_count": 9,
   "metadata": {},
   "outputs": [
    {
     "data": {
      "text/plain": [
       "-1"
      ]
     },
     "execution_count": 9,
     "metadata": {},
     "output_type": "execute_result"
    }
   ],
   "source": [
    "import numpy as np\n",
    "import cv2 as cv\n",
    "\n",
    "\n",
    "img_w = 640\n",
    "img_h = 480\n",
    "bpp = 3\n",
    "\n",
    "\n",
    "img = np.zeros((img_h, img_w, bpp), np.uint8)\n",
    "\n",
    "\n",
    "red = (0, 0, 255)\n",
    "green = (0, 255, 0)\n",
    "white = (255, 255, 255)\n",
    "yellow = (0, 255, 255)\n",
    "\n",
    "\n",
    "center_x = int(img_w / 2.0)\n",
    "center_y = int(img_h / 2.0)\n",
    "\n",
    "\n",
    "\n",
    "thickness = 2 \n",
    "\n",
    "location = (center_x - 200, center_y - 100)\n",
    "font = cv.FONT_HERSHEY_SCRIPT_SIMPLEX  \n",
    "fontScale = 3.5\n",
    "cv.putText(img, 'OpenCV', location, font, fontScale, yellow, thickness)\n",
    "\n",
    "\n",
    "\n",
    "location = (center_x - 150, center_y + 20)\n",
    "font = cv.FONT_ITALIC  \n",
    "fontScale = 2\n",
    "cv.putText(img, 'Tutorial', location, font, fontScale, red, thickness)\n",
    "\n",
    "\n",
    "\n",
    "location = (center_x - 250, center_y + 100)\n",
    "font = cv.FONT_HERSHEY_SIMPLEX \n",
    "fontScale = 1.5\n",
    "cv.putText(img, 'webnautes.tistory.com', location, font, fontScale, white, thickness)\n",
    "\n",
    "\n",
    "\n",
    "location = (center_x - 130, center_y + 150)\n",
    "font = cv.FONT_HERSHEY_COMPLEX  # normal size serif font\n",
    "fontScale = 1.2\n",
    "cv.putText(img, 'webnautes', location, font, fontScale, green, thickness)\n",
    "\n",
    "\n",
    "cv.imshow(\"drawing\", img)\n",
    "cv.waitKey(0)"
   ]
  },
  {
   "cell_type": "markdown",
   "metadata": {},
   "source": []
  }
 ],
 "metadata": {
  "kernelspec": {
   "display_name": "Python 3",
   "language": "python",
   "name": "python3"
  },
  "language_info": {
   "codemirror_mode": {
    "name": "ipython",
    "version": 3
   },
   "file_extension": ".py",
   "mimetype": "text/x-python",
   "name": "python",
   "nbconvert_exporter": "python",
   "pygments_lexer": "ipython3",
   "version": "3.12.3"
  }
 },
 "nbformat": 4,
 "nbformat_minor": 2
}
