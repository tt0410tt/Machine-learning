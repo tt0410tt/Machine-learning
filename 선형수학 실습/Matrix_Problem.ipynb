{
 "cells": [
  {
   "cell_type": "markdown",
   "metadata": {},
   "source": [
    "1) 두 행렬 A와 B가 주어졌을 때, 행렬 덧셈과 뺄셈을 수행하는 코드를 작성하시오."
   ]
  },
  {
   "cell_type": "code",
   "execution_count": 63,
   "metadata": {},
   "outputs": [
    {
     "name": "stdout",
     "output_type": "stream",
     "text": [
      "행렬 덧셈:\n",
      " [[3 3]\n",
      " [3 8]]\n",
      "행렬 뺄셈:\n",
      " [[1 3]\n",
      " [5 2]]\n"
     ]
    }
   ],
   "source": [
    "import numpy as np\n",
    "\n",
    "A = np.array([[2, 3], [4, 5]])\n",
    "B = np.array([[1, 0], [-1, 3]])\n",
    "\n",
    "# 행렬 덧셈\n",
    "C_add = A+B #\n",
    "print(\"행렬 덧셈:\\n\", C_add)\n",
    "\n",
    "# 행렬 뺄셈\n",
    "C_subtract =A-B\n",
    "print(\"행렬 뺄셈:\\n\", C_subtract)"
   ]
  },
  {
   "cell_type": "markdown",
   "metadata": {},
   "source": [
    "2) 주어진 행렬 A와 스칼라 c에 대해 스칼라 곱을 수행하는 코드를 작성하시오. (밑줄 부분)"
   ]
  },
  {
   "cell_type": "code",
   "execution_count": 64,
   "metadata": {},
   "outputs": [
    {
     "name": "stdout",
     "output_type": "stream",
     "text": [
      "스칼라 곱:\n",
      " [[12  4]\n",
      " [ 0 -8]]\n"
     ]
    }
   ],
   "source": [
    "import numpy as np\n",
    "\n",
    "A = np.array([[3, 1], [0, -2]])\n",
    "c = 4\n",
    "\n",
    "# 스칼라 곱\n",
    "C_scalar = np.multiply(A,c)\n",
    "print(\"스칼라 곱:\\n\", C_scalar)\n",
    "\n"
   ]
  },
  {
   "cell_type": "markdown",
   "metadata": {},
   "source": [
    "3) 두 행렬 A와 B의 행렬 곱을 수행하는 코드를 작성하시오. (밑줄 부분)."
   ]
  },
  {
   "cell_type": "code",
   "execution_count": 65,
   "metadata": {},
   "outputs": [
    {
     "name": "stdout",
     "output_type": "stream",
     "text": [
      "행렬 곱셈:\n",
      " [[2 8]\n",
      " [1 5]]\n"
     ]
    }
   ],
   "source": [
    "import numpy as np\n",
    "\n",
    "A = np.array([[2, 4], [1, 3]])\n",
    "B = np.array([[1, 2], [0, 1]])\n",
    "\n",
    "# 행렬 곱셈\n",
    "C_multiply = np.dot(A,B)\n",
    "print(\"행렬 곱셈:\\n\", C_multiply)"
   ]
  },
  {
   "cell_type": "markdown",
   "metadata": {},
   "source": [
    "4. 주어진 행렬 A의 전치 행렬을 수행하는 코드를 작성하시오. (밑줄 부분). 그리고 결과를 예측하시오."
   ]
  },
  {
   "cell_type": "code",
   "execution_count": 66,
   "metadata": {},
   "outputs": [
    {
     "name": "stdout",
     "output_type": "stream",
     "text": [
      "행렬 전치:\n",
      " [[1 2]\n",
      " [3 4]\n",
      " [5 6]]\n"
     ]
    }
   ],
   "source": [
    "import numpy as np\n",
    "\n",
    "A = np.array([[1, 2, 3], [4, 5, 6]])\n",
    "\n",
    "# 행렬 전치\n",
    "A_transpose = A.T.shape\n",
    "A.shape=(3,2)\n",
    "A_transpose = A\n",
    "print(\"행렬 전치:\\n\", A_transpose)\n",
    "\n"
   ]
  },
  {
   "cell_type": "markdown",
   "metadata": {},
   "source": [
    "5. 주어진 행렬 A의 역행렬을 수행하는 코드를 작성하시오. (밑줄 부분). "
   ]
  },
  {
   "cell_type": "code",
   "execution_count": 67,
   "metadata": {},
   "outputs": [
    {
     "name": "stdout",
     "output_type": "stream",
     "text": [
      "역행렬:\n",
      " [[ 0.6 -0.7]\n",
      " [-0.2  0.4]]\n"
     ]
    }
   ],
   "source": [
    "import numpy as np\n",
    "\n",
    "A = np.array([[4, 7], [2, 6]])\n",
    "\n",
    "# 역행렬\n",
    "A_inverse = np.linalg.inv(A)\n",
    "print(\"역행렬:\\n\", A_inverse)"
   ]
  }
 ],
 "metadata": {
  "kernelspec": {
   "display_name": "Python 3",
   "language": "python",
   "name": "python3"
  },
  "language_info": {
   "codemirror_mode": {
    "name": "ipython",
    "version": 3
   },
   "file_extension": ".py",
   "mimetype": "text/x-python",
   "name": "python",
   "nbconvert_exporter": "python",
   "pygments_lexer": "ipython3",
   "version": "3.12.3"
  }
 },
 "nbformat": 4,
 "nbformat_minor": 2
}
